{
 "cells": [
  {
   "cell_type": "code",
   "execution_count": 1,
   "metadata": {
    "collapsed": true
   },
   "outputs": [],
   "source": [
    "import re\n",
    "from bs4 import BeautifulSoup"
   ]
  },
  {
   "cell_type": "code",
   "execution_count": 2,
   "metadata": {
    "collapsed": false
   },
   "outputs": [],
   "source": [
    "import pandas as pd \n",
    "import string \n",
    "import nltk \n",
    "import numpy as np \n",
    "import datetime as dt \n",
    "import time \n",
    "import unicodedata \n",
    "import re \n",
    "import requests"
   ]
  },
  {
   "cell_type": "code",
   "execution_count": 1,
   "metadata": {
    "collapsed": false
   },
   "outputs": [],
   "source": [
    "import scrapy"
   ]
  },
  {
   "cell_type": "code",
   "execution_count": 5,
   "metadata": {
    "collapsed": false
   },
   "outputs": [],
   "source": [
    "#text = requests.get('http://www.goodreads.com/book/show/119073.The_Name_of_the_Rose').text\n",
    "#soup = BeautifulSoup(text)\n",
    "#result_lst = soup.find_all('div', {'id': 'details'})\n",
    "#result_lst[0].find_all('div', {'class':'infoBoxRowItem'})"
   ]
  },
  {
   "cell_type": "code",
   "execution_count": 3,
   "metadata": {
    "collapsed": true
   },
   "outputs": [],
   "source": [
    "web_path = \"http://www.goodreads.com/\"\n"
   ]
  },
  {
   "cell_type": "code",
   "execution_count": 11,
   "metadata": {
    "collapsed": false
   },
   "outputs": [],
   "source": [
    "list_selling = \"http://www.goodreads.com/list/show/33934.Best_Selling_Books_of_All_Time\"\n",
    "listBook_selling = BeautifulSoup(requests.get(list_selling).text)\n",
    "listTitle_selling = listBook_selling.find_all(\"a\", class_ = \"bookTitle\")\n",
    "\n",
    "href_selling = []\n",
    "title_selling = []\n",
    "for t in listTitle_selling:\n",
    "    href_selling.append(web_path + t.get(\"href\"))\n",
    "\n",
    "rating_selling = []\n",
    "author_selling = []\n",
    "numrating_selling = []\n",
    "pages_selling = []\n",
    "firstpubdate_selling = []\n",
    "language_selling = []\n",
    "img_selling = []\n",
    "\n",
    "for link in href_selling:\n",
    "    book = BeautifulSoup(requests.get(link).text)\n",
    "    rating_selling.append(book.find(\"span\", class_ = \"average\").string)\n",
    "    author_selling.append(book.find('span',itemprop = 'name').string)\n",
    "    #re.sub('\\xe9','e',author_selling[2])\n",
    "    numrating_selling.append(book.find('span',class_ = 'value-title').get('title'))\n",
    "    #get pages\n",
    "    if book.find('span',itemprop = 'numberOfPages')!=None:\n",
    "        pages_selling.append(book.find('span',itemprop = 'numberOfPages').string)\n",
    "    else:\n",
    "        pages_selling.append('Dont know')\n",
    "    #print pages_selling\n",
    "    #get publish date\n",
    "    if book.find('nobr', class_ = 'greyText')!=None:\n",
    "        firstpubdate_selling.append(book.find('nobr', class_ = 'greyText').string.strip())\n",
    "    else:\n",
    "        firstpubdate_selling.append(book.find('div', class_ = 'row').string)\n",
    "    #get language    \n",
    "    if book.find('div', class_ = 'infoBoxRowItem',itemprop = 'inLanguage')!=None:\n",
    "        language_selling.append(book.find('div', class_ = 'infoBoxRowItem',itemprop = 'inLanguage').string)\n",
    "    else:\n",
    "        language_selling.append('Dont know')\n",
    "    #print language_selling\n",
    "    #get title\n",
    "    #print book.find('img',id = 'coverImage')\n",
    "    img_selling.append(book.find('img',id = 'coverImage').get('src'))\n",
    "    if book.find(\"h1\", class_ = \"bookTitle\").string != None:\n",
    "         title_selling.append(book.find(\"h1\", class_ = \"bookTitle\").string.strip())\n",
    "    else:\n",
    "        title_selling.append(book.find(\"h1\", class_ = \"bookTitle\").contents[0].string.strip())\n",
    "\n",
    "dic_selling = {'rating':rating_selling,\n",
    "       'author':author_selling,\n",
    "       'popularity':numrating_selling,\n",
    "       'pages':pages_selling,\n",
    "       'publish date':firstpubdate_selling,\n",
    "       'language':language_selling,\n",
    "       'book image':img_selling,\n",
    "       'Title':title_selling}\n",
    "\n",
    "df_selling = pd.DataFrame(dic_selling)\n",
    "df_selling.to_csv('selling_descriptive.csv', encoding='utf-8')\n",
    "#resultdf = pd.DataFrame(reviews.items(), columns = ['user', 'review'])\n",
    "#pd.Series(pages_selling).to_csv('another2.csv', encoding='utf-8')"
   ]
  },
  {
   "cell_type": "code",
   "execution_count": 9,
   "metadata": {
    "collapsed": false
   },
   "outputs": [],
   "source": [
    "list_rating = 'http://www.goodreads.com/list/show/9440.100_Best_Books_of_All_Time_The_World_Library_List'\n",
    "listBook_rating = BeautifulSoup(requests.get(list_rating).text)\n",
    "listTitle_rating = listBook_rating.find_all('a', class_ = 'bookTitle')\n",
    "\n",
    "href_rating = []\n",
    "title_rating = []\n",
    "\n",
    "for t in listTitle_rating:\n",
    "    href_rating.append(web_path + t.get(\"href\"))\n",
    "\n",
    "rating_rating = []\n",
    "author_rating = []\n",
    "numrating_rating = []\n",
    "pages_rating = []\n",
    "firstpubdate_rating = []\n",
    "language_rating = []\n",
    "img_rating = []\n",
    "\n",
    "for link in href_rating:\n",
    "    book = BeautifulSoup(requests.get(link).text)\n",
    "    rating_rating.append(book.find(\"span\", class_ = \"average\").string)\n",
    "    author_rating.append(book.find('span',itemprop = 'name').string)\n",
    "    numrating_rating.append(book.find('span',class_ = 'value-title').get('title'))\n",
    "    #get pages\n",
    "    if book.find('span',itemprop = 'numberOfPages')!=None:\n",
    "        pages_rating.append(book.find('span',itemprop = 'numberOfPages').string)\n",
    "    else:\n",
    "        pages_rating.append('Dont know')\n",
    "    #print pages_selling\n",
    "    #get publish date\n",
    "    if book.find('nobr', class_ = 'greyText')!=None:\n",
    "        firstpubdate_rating.append(book.find('nobr', class_ = 'greyText').string.strip())\n",
    "    else:\n",
    "        firstpubdate_rating.append(book.find('div', class_ = 'row').string)\n",
    "    #get language    \n",
    "    if book.find('div', class_ = 'infoBoxRowItem',itemprop = 'inLanguage')!=None:\n",
    "        language_rating.append(book.find('div', class_ = 'infoBoxRowItem',itemprop = 'inLanguage').string)\n",
    "    else:\n",
    "        language_rating.append('Dont know')\n",
    "    #print language_selling\n",
    "    #get title\n",
    "    #print book.find('img',id = 'coverImage')\n",
    "    img_rating.append(book.find('img',id = 'coverImage').get('src'))\n",
    "    if book.find(\"h1\", class_ = \"bookTitle\").string != None:\n",
    "         title_rating.append(book.find(\"h1\", class_ = \"bookTitle\").string.strip())\n",
    "    else:\n",
    "        title_rating.append(book.find(\"h1\", class_ = \"bookTitle\").contents[0].string.strip())\n",
    "\n",
    "dic_rating = {'rating':rating_rating,\n",
    "       'author':author_rating,\n",
    "       'popularity':numrating_rating,\n",
    "       'pages':pages_rating,\n",
    "       'publish date':firstpubdate_rating,\n",
    "       'language':language_rating,\n",
    "       'book image':img_rating,\n",
    "       'title':title_rating}\n",
    "\n",
    "df_rating = pd.DataFrame(dic_rating)\n",
    "df_rating.to_csv('rating_descriptive.csv', encoding='utf-8')"
   ]
  },
  {
   "cell_type": "code",
   "execution_count": 6,
   "metadata": {
    "collapsed": false
   },
   "outputs": [
    {
     "name": "stderr",
     "output_type": "stream",
     "text": [
      "C:\\Users\\my125\\Anaconda2\\lib\\site-packages\\bs4\\__init__.py:166: UserWarning: No parser was explicitly specified, so I'm using the best available HTML parser for this system (\"lxml\"). This usually isn't a problem, but if you run this code on another system, or in a different virtual environment, it may use a different parser and behave differently.\n",
      "\n",
      "To get rid of this warning, change this:\n",
      "\n",
      " BeautifulSoup([your markup])\n",
      "\n",
      "to this:\n",
      "\n",
      " BeautifulSoup([your markup], \"lxml\")\n",
      "\n",
      "  markup_type=markup_type))\n"
     ]
    }
   ],
   "source": [
    "list_bad = 'http://www.goodreads.com/list/show/23974.Worst_Rated_Books_on_Goodreads'\n",
    "listBook_bad = BeautifulSoup(requests.get(list_bad).text)\n",
    "listTitle_bad = listBook_bad.find_all('a', class_ = 'bookTitle')\n",
    "\n",
    "href_bad = []\n",
    "title_bad = []\n",
    "\n",
    "for t in listTitle_bad:\n",
    "    href_bad.append(web_path + t.get(\"href\"))\n",
    "\n",
    "rating_bad = []\n",
    "author_bad = []\n",
    "numrating_bad = []\n",
    "pages_bad = []\n",
    "firstpubdate_bad = []\n",
    "language_bad = []\n",
    "img_bad = []\n",
    "\n",
    "for link in href_bad:\n",
    "    book = BeautifulSoup(requests.get(link).text)\n",
    "    rating_bad.append(book.find(\"span\", class_ = \"average\").string)\n",
    "    author_bad.append(book.find('span',itemprop = 'name').string)\n",
    "    numrating_bad.append(book.find('span',class_ = 'value-title').get('title'))\n",
    "    #get pages\n",
    "    if book.find('span',itemprop = 'numberOfPages')!=None:\n",
    "        pages_bad.append(book.find('span',itemprop = 'numberOfPages').string)\n",
    "    else:\n",
    "        pages_bad.append('Dont know')\n",
    "    #print pages_selling\n",
    "    #get publish date\n",
    "    if book.find('nobr', class_ = 'greyText')!=None:\n",
    "        firstpubdate_bad.append(book.find('nobr', class_ = 'greyText').string.strip())\n",
    "    else:\n",
    "        firstpubdate_bad.append(book.find('div', class_ = 'row').string)\n",
    "    #get language    \n",
    "    if book.find('div', class_ = 'infoBoxRowItem',itemprop = 'inLanguage')!=None:\n",
    "        language_bad.append(book.find('div', class_ = 'infoBoxRowItem',itemprop = 'inLanguage').string)\n",
    "    else:\n",
    "        language_bad.append('Dont know')\n",
    "    #print language_selling\n",
    "    #get title\n",
    "    #print book.find('img',id = 'coverImage')\n",
    "    img_bad.append(book.find('img',id = 'coverImage').get('src'))\n",
    "    if book.find(\"h1\", class_ = \"bookTitle\").string != None:\n",
    "         title_bad.append(book.find(\"h1\", class_ = \"bookTitle\").string)\n",
    "    else:\n",
    "        title_bad.append(book.find(\"h1\", class_ = \"bookTitle\").contents[0].string)\n",
    "\n",
    "dic_bad = {'rating':rating_bad,\n",
    "       'author':author_bad,\n",
    "       'popularity':numrating_bad,\n",
    "       'pages':pages_bad,\n",
    "       'publish date':firstpubdate_bad,\n",
    "       'language':language_bad,\n",
    "       'book image':img_bad}\n",
    "\n",
    "df_bad = pd.DataFrame(dic_bad)\n",
    "df_bad.to_csv('bad_descriptive.csv', encoding='utf-8')"
   ]
  },
  {
   "cell_type": "code",
   "execution_count": 21,
   "metadata": {
    "collapsed": false
   },
   "outputs": [
    {
     "ename": "KeyboardInterrupt",
     "evalue": "",
     "output_type": "error",
     "traceback": [
      "\u001b[1;31m---------------------------------------------------------------------------\u001b[0m",
      "\u001b[1;31mKeyboardInterrupt\u001b[0m                         Traceback (most recent call last)",
      "\u001b[1;32m<ipython-input-21-e23e69f06dbb>\u001b[0m in \u001b[0;36m<module>\u001b[1;34m()\u001b[0m\n\u001b[0;32m      2\u001b[0m \u001b[0mdriver\u001b[0m \u001b[1;33m=\u001b[0m \u001b[0mwebdriver\u001b[0m\u001b[1;33m.\u001b[0m\u001b[0mChrome\u001b[0m\u001b[1;33m(\u001b[0m\u001b[1;34m'chromedriver.exe'\u001b[0m\u001b[1;33m)\u001b[0m\u001b[1;33m\u001b[0m\u001b[0m\n\u001b[0;32m      3\u001b[0m \u001b[1;32mfor\u001b[0m \u001b[0mlink\u001b[0m \u001b[1;32min\u001b[0m \u001b[0mhref_selling\u001b[0m\u001b[1;33m:\u001b[0m\u001b[1;33m\u001b[0m\u001b[0m\n\u001b[1;32m----> 4\u001b[1;33m     \u001b[0mdriver\u001b[0m\u001b[1;33m.\u001b[0m\u001b[0mget\u001b[0m\u001b[1;33m(\u001b[0m\u001b[0mlink\u001b[0m\u001b[1;33m)\u001b[0m\u001b[1;33m\u001b[0m\u001b[0m\n\u001b[0m\u001b[0;32m      5\u001b[0m     \u001b[0mdriver\u001b[0m\u001b[1;33m.\u001b[0m\u001b[0mfind_elements_by_id\u001b[0m\u001b[1;33m(\u001b[0m\u001b[1;34m'bookDataBoxShow'\u001b[0m\u001b[1;33m)\u001b[0m\u001b[1;33m[\u001b[0m\u001b[1;36m0\u001b[0m\u001b[1;33m]\u001b[0m\u001b[1;33m.\u001b[0m\u001b[0mclick\u001b[0m\u001b[1;33m(\u001b[0m\u001b[1;33m)\u001b[0m\u001b[1;33m\u001b[0m\u001b[0m\n\u001b[0;32m      6\u001b[0m     \u001b[0msoup\u001b[0m \u001b[1;33m=\u001b[0m \u001b[0mBeautifulSoup\u001b[0m\u001b[1;33m(\u001b[0m\u001b[0mdriver\u001b[0m\u001b[1;33m.\u001b[0m\u001b[0mpage_source\u001b[0m\u001b[1;33m)\u001b[0m\u001b[1;33m\u001b[0m\u001b[0m\n",
      "\u001b[1;32mC:\\Users\\my125\\Anaconda2\\lib\\site-packages\\selenium-3.0.0b2-py2.7.egg\\selenium\\webdriver\\remote\\webdriver.pyc\u001b[0m in \u001b[0;36mget\u001b[1;34m(self, url)\u001b[0m\n\u001b[0;32m    246\u001b[0m         \u001b[0mLoads\u001b[0m \u001b[0ma\u001b[0m \u001b[0mweb\u001b[0m \u001b[0mpage\u001b[0m \u001b[1;32min\u001b[0m \u001b[0mthe\u001b[0m \u001b[0mcurrent\u001b[0m \u001b[0mbrowser\u001b[0m \u001b[0msession\u001b[0m\u001b[1;33m.\u001b[0m\u001b[1;33m\u001b[0m\u001b[0m\n\u001b[0;32m    247\u001b[0m         \"\"\"\n\u001b[1;32m--> 248\u001b[1;33m         \u001b[0mself\u001b[0m\u001b[1;33m.\u001b[0m\u001b[0mexecute\u001b[0m\u001b[1;33m(\u001b[0m\u001b[0mCommand\u001b[0m\u001b[1;33m.\u001b[0m\u001b[0mGET\u001b[0m\u001b[1;33m,\u001b[0m \u001b[1;33m{\u001b[0m\u001b[1;34m'url'\u001b[0m\u001b[1;33m:\u001b[0m \u001b[0murl\u001b[0m\u001b[1;33m}\u001b[0m\u001b[1;33m)\u001b[0m\u001b[1;33m\u001b[0m\u001b[0m\n\u001b[0m\u001b[0;32m    249\u001b[0m \u001b[1;33m\u001b[0m\u001b[0m\n\u001b[0;32m    250\u001b[0m     \u001b[1;33m@\u001b[0m\u001b[0mproperty\u001b[0m\u001b[1;33m\u001b[0m\u001b[0m\n",
      "\u001b[1;32mC:\\Users\\my125\\Anaconda2\\lib\\site-packages\\selenium-3.0.0b2-py2.7.egg\\selenium\\webdriver\\remote\\webdriver.pyc\u001b[0m in \u001b[0;36mexecute\u001b[1;34m(self, driver_command, params)\u001b[0m\n\u001b[0;32m    232\u001b[0m \u001b[1;33m\u001b[0m\u001b[0m\n\u001b[0;32m    233\u001b[0m         \u001b[0mparams\u001b[0m \u001b[1;33m=\u001b[0m \u001b[0mself\u001b[0m\u001b[1;33m.\u001b[0m\u001b[0m_wrap_value\u001b[0m\u001b[1;33m(\u001b[0m\u001b[0mparams\u001b[0m\u001b[1;33m)\u001b[0m\u001b[1;33m\u001b[0m\u001b[0m\n\u001b[1;32m--> 234\u001b[1;33m         \u001b[0mresponse\u001b[0m \u001b[1;33m=\u001b[0m \u001b[0mself\u001b[0m\u001b[1;33m.\u001b[0m\u001b[0mcommand_executor\u001b[0m\u001b[1;33m.\u001b[0m\u001b[0mexecute\u001b[0m\u001b[1;33m(\u001b[0m\u001b[0mdriver_command\u001b[0m\u001b[1;33m,\u001b[0m \u001b[0mparams\u001b[0m\u001b[1;33m)\u001b[0m\u001b[1;33m\u001b[0m\u001b[0m\n\u001b[0m\u001b[0;32m    235\u001b[0m         \u001b[1;32mif\u001b[0m \u001b[0mresponse\u001b[0m\u001b[1;33m:\u001b[0m\u001b[1;33m\u001b[0m\u001b[0m\n\u001b[0;32m    236\u001b[0m             \u001b[0mself\u001b[0m\u001b[1;33m.\u001b[0m\u001b[0merror_handler\u001b[0m\u001b[1;33m.\u001b[0m\u001b[0mcheck_response\u001b[0m\u001b[1;33m(\u001b[0m\u001b[0mresponse\u001b[0m\u001b[1;33m)\u001b[0m\u001b[1;33m\u001b[0m\u001b[0m\n",
      "\u001b[1;32mC:\\Users\\my125\\Anaconda2\\lib\\site-packages\\selenium-3.0.0b2-py2.7.egg\\selenium\\webdriver\\remote\\remote_connection.pyc\u001b[0m in \u001b[0;36mexecute\u001b[1;34m(self, command, params)\u001b[0m\n\u001b[0;32m    399\u001b[0m         \u001b[0mpath\u001b[0m \u001b[1;33m=\u001b[0m \u001b[0mstring\u001b[0m\u001b[1;33m.\u001b[0m\u001b[0mTemplate\u001b[0m\u001b[1;33m(\u001b[0m\u001b[0mcommand_info\u001b[0m\u001b[1;33m[\u001b[0m\u001b[1;36m1\u001b[0m\u001b[1;33m]\u001b[0m\u001b[1;33m)\u001b[0m\u001b[1;33m.\u001b[0m\u001b[0msubstitute\u001b[0m\u001b[1;33m(\u001b[0m\u001b[0mparams\u001b[0m\u001b[1;33m)\u001b[0m\u001b[1;33m\u001b[0m\u001b[0m\n\u001b[0;32m    400\u001b[0m         \u001b[0murl\u001b[0m \u001b[1;33m=\u001b[0m \u001b[1;34m'%s%s'\u001b[0m \u001b[1;33m%\u001b[0m \u001b[1;33m(\u001b[0m\u001b[0mself\u001b[0m\u001b[1;33m.\u001b[0m\u001b[0m_url\u001b[0m\u001b[1;33m,\u001b[0m \u001b[0mpath\u001b[0m\u001b[1;33m)\u001b[0m\u001b[1;33m\u001b[0m\u001b[0m\n\u001b[1;32m--> 401\u001b[1;33m         \u001b[1;32mreturn\u001b[0m \u001b[0mself\u001b[0m\u001b[1;33m.\u001b[0m\u001b[0m_request\u001b[0m\u001b[1;33m(\u001b[0m\u001b[0mcommand_info\u001b[0m\u001b[1;33m[\u001b[0m\u001b[1;36m0\u001b[0m\u001b[1;33m]\u001b[0m\u001b[1;33m,\u001b[0m \u001b[0murl\u001b[0m\u001b[1;33m,\u001b[0m \u001b[0mbody\u001b[0m\u001b[1;33m=\u001b[0m\u001b[0mdata\u001b[0m\u001b[1;33m)\u001b[0m\u001b[1;33m\u001b[0m\u001b[0m\n\u001b[0m\u001b[0;32m    402\u001b[0m \u001b[1;33m\u001b[0m\u001b[0m\n\u001b[0;32m    403\u001b[0m     \u001b[1;32mdef\u001b[0m \u001b[0m_request\u001b[0m\u001b[1;33m(\u001b[0m\u001b[0mself\u001b[0m\u001b[1;33m,\u001b[0m \u001b[0mmethod\u001b[0m\u001b[1;33m,\u001b[0m \u001b[0murl\u001b[0m\u001b[1;33m,\u001b[0m \u001b[0mbody\u001b[0m\u001b[1;33m=\u001b[0m\u001b[0mNone\u001b[0m\u001b[1;33m)\u001b[0m\u001b[1;33m:\u001b[0m\u001b[1;33m\u001b[0m\u001b[0m\n",
      "\u001b[1;32mC:\\Users\\my125\\Anaconda2\\lib\\site-packages\\selenium-3.0.0b2-py2.7.egg\\selenium\\webdriver\\remote\\remote_connection.pyc\u001b[0m in \u001b[0;36m_request\u001b[1;34m(self, method, url, body)\u001b[0m\n\u001b[0;32m    431\u001b[0m             \u001b[1;32mtry\u001b[0m\u001b[1;33m:\u001b[0m\u001b[1;33m\u001b[0m\u001b[0m\n\u001b[0;32m    432\u001b[0m                 \u001b[0mself\u001b[0m\u001b[1;33m.\u001b[0m\u001b[0m_conn\u001b[0m\u001b[1;33m.\u001b[0m\u001b[0mrequest\u001b[0m\u001b[1;33m(\u001b[0m\u001b[0mmethod\u001b[0m\u001b[1;33m,\u001b[0m \u001b[0mparsed_url\u001b[0m\u001b[1;33m.\u001b[0m\u001b[0mpath\u001b[0m\u001b[1;33m,\u001b[0m \u001b[0mbody\u001b[0m\u001b[1;33m,\u001b[0m \u001b[0mheaders\u001b[0m\u001b[1;33m)\u001b[0m\u001b[1;33m\u001b[0m\u001b[0m\n\u001b[1;32m--> 433\u001b[1;33m                 \u001b[0mresp\u001b[0m \u001b[1;33m=\u001b[0m \u001b[0mself\u001b[0m\u001b[1;33m.\u001b[0m\u001b[0m_conn\u001b[0m\u001b[1;33m.\u001b[0m\u001b[0mgetresponse\u001b[0m\u001b[1;33m(\u001b[0m\u001b[1;33m)\u001b[0m\u001b[1;33m\u001b[0m\u001b[0m\n\u001b[0m\u001b[0;32m    434\u001b[0m             \u001b[1;32mexcept\u001b[0m \u001b[1;33m(\u001b[0m\u001b[0mhttplib\u001b[0m\u001b[1;33m.\u001b[0m\u001b[0mHTTPException\u001b[0m\u001b[1;33m,\u001b[0m \u001b[0msocket\u001b[0m\u001b[1;33m.\u001b[0m\u001b[0merror\u001b[0m\u001b[1;33m)\u001b[0m\u001b[1;33m:\u001b[0m\u001b[1;33m\u001b[0m\u001b[0m\n\u001b[0;32m    435\u001b[0m                 \u001b[0mself\u001b[0m\u001b[1;33m.\u001b[0m\u001b[0m_conn\u001b[0m\u001b[1;33m.\u001b[0m\u001b[0mclose\u001b[0m\u001b[1;33m(\u001b[0m\u001b[1;33m)\u001b[0m\u001b[1;33m\u001b[0m\u001b[0m\n",
      "\u001b[1;32mC:\\Users\\my125\\Anaconda2\\lib\\httplib.pyc\u001b[0m in \u001b[0;36mgetresponse\u001b[1;34m(self, buffering)\u001b[0m\n\u001b[0;32m   1134\u001b[0m \u001b[1;33m\u001b[0m\u001b[0m\n\u001b[0;32m   1135\u001b[0m         \u001b[1;32mtry\u001b[0m\u001b[1;33m:\u001b[0m\u001b[1;33m\u001b[0m\u001b[0m\n\u001b[1;32m-> 1136\u001b[1;33m             \u001b[0mresponse\u001b[0m\u001b[1;33m.\u001b[0m\u001b[0mbegin\u001b[0m\u001b[1;33m(\u001b[0m\u001b[1;33m)\u001b[0m\u001b[1;33m\u001b[0m\u001b[0m\n\u001b[0m\u001b[0;32m   1137\u001b[0m             \u001b[1;32massert\u001b[0m \u001b[0mresponse\u001b[0m\u001b[1;33m.\u001b[0m\u001b[0mwill_close\u001b[0m \u001b[1;33m!=\u001b[0m \u001b[0m_UNKNOWN\u001b[0m\u001b[1;33m\u001b[0m\u001b[0m\n\u001b[0;32m   1138\u001b[0m             \u001b[0mself\u001b[0m\u001b[1;33m.\u001b[0m\u001b[0m__state\u001b[0m \u001b[1;33m=\u001b[0m \u001b[0m_CS_IDLE\u001b[0m\u001b[1;33m\u001b[0m\u001b[0m\n",
      "\u001b[1;32mC:\\Users\\my125\\Anaconda2\\lib\\httplib.pyc\u001b[0m in \u001b[0;36mbegin\u001b[1;34m(self)\u001b[0m\n\u001b[0;32m    451\u001b[0m         \u001b[1;31m# read until we get a non-100 response\u001b[0m\u001b[1;33m\u001b[0m\u001b[1;33m\u001b[0m\u001b[0m\n\u001b[0;32m    452\u001b[0m         \u001b[1;32mwhile\u001b[0m \u001b[0mTrue\u001b[0m\u001b[1;33m:\u001b[0m\u001b[1;33m\u001b[0m\u001b[0m\n\u001b[1;32m--> 453\u001b[1;33m             \u001b[0mversion\u001b[0m\u001b[1;33m,\u001b[0m \u001b[0mstatus\u001b[0m\u001b[1;33m,\u001b[0m \u001b[0mreason\u001b[0m \u001b[1;33m=\u001b[0m \u001b[0mself\u001b[0m\u001b[1;33m.\u001b[0m\u001b[0m_read_status\u001b[0m\u001b[1;33m(\u001b[0m\u001b[1;33m)\u001b[0m\u001b[1;33m\u001b[0m\u001b[0m\n\u001b[0m\u001b[0;32m    454\u001b[0m             \u001b[1;32mif\u001b[0m \u001b[0mstatus\u001b[0m \u001b[1;33m!=\u001b[0m \u001b[0mCONTINUE\u001b[0m\u001b[1;33m:\u001b[0m\u001b[1;33m\u001b[0m\u001b[0m\n\u001b[0;32m    455\u001b[0m                 \u001b[1;32mbreak\u001b[0m\u001b[1;33m\u001b[0m\u001b[0m\n",
      "\u001b[1;32mC:\\Users\\my125\\Anaconda2\\lib\\httplib.pyc\u001b[0m in \u001b[0;36m_read_status\u001b[1;34m(self)\u001b[0m\n\u001b[0;32m    407\u001b[0m     \u001b[1;32mdef\u001b[0m \u001b[0m_read_status\u001b[0m\u001b[1;33m(\u001b[0m\u001b[0mself\u001b[0m\u001b[1;33m)\u001b[0m\u001b[1;33m:\u001b[0m\u001b[1;33m\u001b[0m\u001b[0m\n\u001b[0;32m    408\u001b[0m         \u001b[1;31m# Initialize with Simple-Response defaults\u001b[0m\u001b[1;33m\u001b[0m\u001b[1;33m\u001b[0m\u001b[0m\n\u001b[1;32m--> 409\u001b[1;33m         \u001b[0mline\u001b[0m \u001b[1;33m=\u001b[0m \u001b[0mself\u001b[0m\u001b[1;33m.\u001b[0m\u001b[0mfp\u001b[0m\u001b[1;33m.\u001b[0m\u001b[0mreadline\u001b[0m\u001b[1;33m(\u001b[0m\u001b[0m_MAXLINE\u001b[0m \u001b[1;33m+\u001b[0m \u001b[1;36m1\u001b[0m\u001b[1;33m)\u001b[0m\u001b[1;33m\u001b[0m\u001b[0m\n\u001b[0m\u001b[0;32m    410\u001b[0m         \u001b[1;32mif\u001b[0m \u001b[0mlen\u001b[0m\u001b[1;33m(\u001b[0m\u001b[0mline\u001b[0m\u001b[1;33m)\u001b[0m \u001b[1;33m>\u001b[0m \u001b[0m_MAXLINE\u001b[0m\u001b[1;33m:\u001b[0m\u001b[1;33m\u001b[0m\u001b[0m\n\u001b[0;32m    411\u001b[0m             \u001b[1;32mraise\u001b[0m \u001b[0mLineTooLong\u001b[0m\u001b[1;33m(\u001b[0m\u001b[1;34m\"header line\"\u001b[0m\u001b[1;33m)\u001b[0m\u001b[1;33m\u001b[0m\u001b[0m\n",
      "\u001b[1;32mC:\\Users\\my125\\Anaconda2\\lib\\socket.pyc\u001b[0m in \u001b[0;36mreadline\u001b[1;34m(self, size)\u001b[0m\n\u001b[0;32m    478\u001b[0m             \u001b[1;32mwhile\u001b[0m \u001b[0mTrue\u001b[0m\u001b[1;33m:\u001b[0m\u001b[1;33m\u001b[0m\u001b[0m\n\u001b[0;32m    479\u001b[0m                 \u001b[1;32mtry\u001b[0m\u001b[1;33m:\u001b[0m\u001b[1;33m\u001b[0m\u001b[0m\n\u001b[1;32m--> 480\u001b[1;33m                     \u001b[0mdata\u001b[0m \u001b[1;33m=\u001b[0m \u001b[0mself\u001b[0m\u001b[1;33m.\u001b[0m\u001b[0m_sock\u001b[0m\u001b[1;33m.\u001b[0m\u001b[0mrecv\u001b[0m\u001b[1;33m(\u001b[0m\u001b[0mself\u001b[0m\u001b[1;33m.\u001b[0m\u001b[0m_rbufsize\u001b[0m\u001b[1;33m)\u001b[0m\u001b[1;33m\u001b[0m\u001b[0m\n\u001b[0m\u001b[0;32m    481\u001b[0m                 \u001b[1;32mexcept\u001b[0m \u001b[0merror\u001b[0m\u001b[1;33m,\u001b[0m \u001b[0me\u001b[0m\u001b[1;33m:\u001b[0m\u001b[1;33m\u001b[0m\u001b[0m\n\u001b[0;32m    482\u001b[0m                     \u001b[1;32mif\u001b[0m \u001b[0me\u001b[0m\u001b[1;33m.\u001b[0m\u001b[0margs\u001b[0m\u001b[1;33m[\u001b[0m\u001b[1;36m0\u001b[0m\u001b[1;33m]\u001b[0m \u001b[1;33m==\u001b[0m \u001b[0mEINTR\u001b[0m\u001b[1;33m:\u001b[0m\u001b[1;33m\u001b[0m\u001b[0m\n",
      "\u001b[1;31mKeyboardInterrupt\u001b[0m: "
     ]
    }
   ],
   "source": [
    "from selenium import webdriver\n",
    "driver = webdriver.Chrome('chromedriver.exe')\n",
    "for link in href_selling:\n",
    "    driver.get(link)\n",
    "    driver.find_elements_by_id('bookDataBoxShow')[0].click()\n",
    "    soup = BeautifulSoup(driver.page_source)\n",
    "    res = soup.find_all('div',class_='infoBoxRowTitle')\n",
    "    index = range(len(res))\n",
    "    tup = zip(index,res)\n",
    "    filter(lambda x,y:x=='setting',tup)\n",
    "    #soup.find('div',)\n",
    "    \n",
    "    \n",
    "    \n",
    "    \n",
    "    \n",
    "    \n",
    "    \n",
    "    \n",
    "    \n",
    "    \n",
    "    \n",
    "    \n",
    "    \n",
    "    \n",
    "    \n",
    "    \n",
    "    \n",
    "    \n",
    "#from nltk.corpus import stopwords"
   ]
  },
  {
   "cell_type": "code",
   "execution_count": 13,
   "metadata": {
    "collapsed": false
   },
   "outputs": [
    {
     "name": "stdout",
     "output_type": "stream",
     "text": [
      "ISBN\n"
     ]
    },
    {
     "data": {
      "text/plain": [
       "[u'Paris', u'London, England']"
      ]
     },
     "execution_count": 13,
     "metadata": {},
     "output_type": "execute_result"
    }
   ],
   "source": [
    "from selenium import webdriver\n",
    "driver = webdriver.Chrome('chromedriver.exe')\n",
    "driver.get('http://www.goodreads.com/book/show/1953.A_Tale_of_Two_Cities')\n",
    "driver.find_elements_by_id('bookDataBoxShow')[0].click()\n",
    "soup = BeautifulSoup(driver.page_source)\n",
    "res = soup.find_all('div',class_='infoBoxRowTitle')\n",
    "index = range(len(res))\n",
    "tup = zip(index,res)\n",
    "print tup[1][1].string\n",
    "ind= filter(lambda tup: tup[1].string=='setting',tup)[0][0]\n",
    "map(lambda x:x.string,soup.find_all('div',class_='infoBoxRowItem')[ind].find_all('a'))"
   ]
  },
  {
   "cell_type": "code",
   "execution_count": 12,
   "metadata": {
    "collapsed": false
   },
   "outputs": [
    {
     "name": "stdout",
     "output_type": "stream",
     "text": [
      "<div class=\"infoBoxRowItem\">\n",
      "<a href=\"/places/898-paris\">Paris</a>,\n",
      "1789\n",
      "<span class=\"darkGreyText\">\n",
      "(France)\n",
      "</span>\n",
      "<br/>\n",
      "<a href=\"/places/850-london-england\">London, England</a>,\n",
      "1789\n",
      "<span class=\"darkGreyText\">\n",
      "(United Kingdom)\n",
      "</span>\n",
      "<br/>\n",
      "</div>\n"
     ]
    },
    {
     "ename": "KeyError",
     "evalue": "2",
     "output_type": "error",
     "traceback": [
      "\u001b[1;31m---------------------------------------------------------------------------\u001b[0m",
      "\u001b[1;31mKeyError\u001b[0m                                  Traceback (most recent call last)",
      "\u001b[1;32m<ipython-input-12-172d51d5dda0>\u001b[0m in \u001b[0;36m<module>\u001b[1;34m()\u001b[0m\n\u001b[0;32m      1\u001b[0m \u001b[1;32mprint\u001b[0m \u001b[0msoup\u001b[0m\u001b[1;33m.\u001b[0m\u001b[0mfind_all\u001b[0m\u001b[1;33m(\u001b[0m\u001b[1;34m'div'\u001b[0m\u001b[1;33m,\u001b[0m\u001b[0mclass_\u001b[0m\u001b[1;33m=\u001b[0m\u001b[1;34m'infoBoxRowItem'\u001b[0m\u001b[1;33m)\u001b[0m\u001b[1;33m[\u001b[0m\u001b[0mind\u001b[0m\u001b[1;33m]\u001b[0m\u001b[1;33m\u001b[0m\u001b[0m\n\u001b[1;32m----> 2\u001b[1;33m \u001b[0msoup\u001b[0m\u001b[1;33m.\u001b[0m\u001b[0mfind_all\u001b[0m\u001b[1;33m(\u001b[0m\u001b[1;34m'div'\u001b[0m\u001b[1;33m,\u001b[0m\u001b[0mclass_\u001b[0m\u001b[1;33m=\u001b[0m\u001b[1;34m'infoBoxRowItem'\u001b[0m\u001b[1;33m)\u001b[0m\u001b[1;33m[\u001b[0m\u001b[0mind\u001b[0m\u001b[1;33m]\u001b[0m\u001b[1;33m[\u001b[0m\u001b[1;36m2\u001b[0m\u001b[1;33m]\u001b[0m\u001b[1;33m\u001b[0m\u001b[0m\n\u001b[0m",
      "\u001b[1;32mC:\\Users\\my125\\Anaconda2\\lib\\site-packages\\bs4\\element.pyc\u001b[0m in \u001b[0;36m__getitem__\u001b[1;34m(self, key)\u001b[0m\n\u001b[0;32m    956\u001b[0m         \"\"\"tag[key] returns the value of the 'key' attribute for the tag,\n\u001b[0;32m    957\u001b[0m         and throws an exception if it's not there.\"\"\"\n\u001b[1;32m--> 958\u001b[1;33m         \u001b[1;32mreturn\u001b[0m \u001b[0mself\u001b[0m\u001b[1;33m.\u001b[0m\u001b[0mattrs\u001b[0m\u001b[1;33m[\u001b[0m\u001b[0mkey\u001b[0m\u001b[1;33m]\u001b[0m\u001b[1;33m\u001b[0m\u001b[0m\n\u001b[0m\u001b[0;32m    959\u001b[0m \u001b[1;33m\u001b[0m\u001b[0m\n\u001b[0;32m    960\u001b[0m     \u001b[1;32mdef\u001b[0m \u001b[0m__iter__\u001b[0m\u001b[1;33m(\u001b[0m\u001b[0mself\u001b[0m\u001b[1;33m)\u001b[0m\u001b[1;33m:\u001b[0m\u001b[1;33m\u001b[0m\u001b[0m\n",
      "\u001b[1;31mKeyError\u001b[0m: 2"
     ]
    }
   ],
   "source": [
    "print soup.find_all('div',class_='infoBoxRowItem')[ind]\n",
    "soup.find_all('div',class_='infoBoxRowItem')[ind][2]"
   ]
  },
  {
   "cell_type": "code",
   "execution_count": null,
   "metadata": {
    "collapsed": true
   },
   "outputs": [],
   "source": [
    "def wordCount(x, number=False):\n",
    "    ## tolower and find words\n",
    "    x = x.lower()\n",
    "    if number:\n",
    "        word_list = re.findall('\\w+', x)\n",
    "    else:\n",
    "        word_list = re.findall('[a-zA-Z]+', x)\n",
    "    ## count and return\n",
    "    result = {}\n",
    "    for word in word_list:\n",
    "        if word in result.keys():\n",
    "            result[word] += 1\n",
    "        else:\n",
    "            result[word] = 1\n",
    "    return result "
   ]
  },
  {
   "cell_type": "code",
   "execution_count": null,
   "metadata": {
    "collapsed": true
   },
   "outputs": [],
   "source": [
    "filter(lambda tag: '....' in tag.get('id')[0], span_tags"
   ]
  }
 ],
 "metadata": {
  "kernelspec": {
   "display_name": "Python 2",
   "language": "python",
   "name": "python2"
  },
  "language_info": {
   "codemirror_mode": {
    "name": "ipython",
    "version": 2
   },
   "file_extension": ".py",
   "mimetype": "text/x-python",
   "name": "python",
   "nbconvert_exporter": "python",
   "pygments_lexer": "ipython2",
   "version": "2.7.12"
  }
 },
 "nbformat": 4,
 "nbformat_minor": 0
}
